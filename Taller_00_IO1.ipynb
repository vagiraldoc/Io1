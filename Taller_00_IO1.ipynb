{
  "nbformat": 4,
  "nbformat_minor": 0,
  "metadata": {
    "colab": {
      "provenance": [],
      "authorship_tag": "ABX9TyOgBvC6AXvMb+Bp3O+Nz3/1",
      "include_colab_link": true
    },
    "kernelspec": {
      "name": "python3",
      "display_name": "Python 3"
    },
    "language_info": {
      "name": "python"
    }
  },
  "cells": [
    {
      "cell_type": "markdown",
      "metadata": {
        "id": "view-in-github",
        "colab_type": "text"
      },
      "source": [
        "<a href=\"https://colab.research.google.com/github/vagiraldoc/Io1/blob/main/Taller_00_IO1.ipynb\" target=\"_parent\"><img src=\"https://colab.research.google.com/assets/colab-badge.svg\" alt=\"Open In Colab\"/></a>"
      ]
    },
    {
      "cell_type": "markdown",
      "source": [
        "#Primer ejercicio\n",
        "#Esto es un subtitullo\n",
        "Esto es un texto normal "
      ],
      "metadata": {
        "id": "HFDmU1zo4ZDL"
      }
    },
    {
      "cell_type": "code",
      "execution_count": 1,
      "metadata": {
        "colab": {
          "base_uri": "https://localhost:8080/"
        },
        "id": "cnCf1d8o3ofH",
        "outputId": "9c2ce3e2-b84b-4b63-ff24-51ea39462514"
      },
      "outputs": [
        {
          "output_type": "stream",
          "name": "stdout",
          "text": [
            "Hola mundo\n"
          ]
        }
      ],
      "source": [
        "print(\"Hola mundo\")"
      ]
    },
    {
      "cell_type": "markdown",
      "source": [
        "#Segundo ejercicio"
      ],
      "metadata": {
        "id": "3jD_E9EW4QWs"
      }
    },
    {
      "cell_type": "code",
      "source": [
        "print(\"Hola Valentina\")"
      ],
      "metadata": {
        "colab": {
          "base_uri": "https://localhost:8080/"
        },
        "id": "B1RdvvmN4T_j",
        "outputId": "75756292-0a78-4797-ff62-78403081eb42"
      },
      "execution_count": 2,
      "outputs": [
        {
          "output_type": "stream",
          "name": "stdout",
          "text": [
            "Hola Valentina\n"
          ]
        }
      ]
    }
  ]
}